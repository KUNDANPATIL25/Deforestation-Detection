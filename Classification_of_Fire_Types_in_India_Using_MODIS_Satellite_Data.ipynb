{
  "cells": [
    {
      "cell_type": "markdown",
      "metadata": {
        "id": "zy-5bUf8Jbhs"
      },
      "source": [
        "### Import Libraries"
      ]
    },
    {
      "cell_type": "markdown",
      "metadata": {},
      "source": [
        "#### pip install numpy pandas matplotlib seaborn scikit-learn folium"
      ]
    },
    {
      "cell_type": "code",
      "execution_count": null,
      "metadata": {
        "id": "yG6XNPZxF4pA"
      },
      "outputs": [],
      "source": [
        "import numpy as np\n",
        "import pandas as pd\n",
        "import matplotlib.pyplot as plt\n",
        "import seaborn as sns\n",
        "from sklearn.model_selection import train_test_split\n",
        "from sklearn.linear_model import LogisticRegression\n",
        "from sklearn.feature_selection import SelectKBest, f_classif, mutual_info_classif\n",
        "from sklearn.ensemble import RandomForestClassifier\n",
        "from sklearn.feature_selection import SelectKBest, f_classif, mutual_info_classif\n",
        "from sklearn.ensemble import RandomForestClassifier\n",
        "from sklearn.preprocessing import StandardScaler\n",
        "from sklearn.metrics import  accuracy_score,classification_report,ConfusionMatrixDisplay\n",
        "from sklearn.neighbors import KNeighborsClassifier\n",
        "from xgboost import XGBClassifier\n",
        "from sklearn.preprocessing import LabelEncoder, OneHotEncoder"
      ]
    },
    {
      "cell_type": "markdown",
      "metadata": {
        "id": "1vb-xMt-GXpe"
      },
      "source": [
        "## Load the dataset"
      ]
    },
    {
      "cell_type": "code",
      "execution_count": null,
      "metadata": {
        "id": "ahXI1iABGzIs"
      },
      "outputs": [],
      "source": [
        "df1 = pd.read_csv('modis_2021_India.csv')\n",
        "df2 = pd.read_csv('modis_2022_India.csv')\n",
        "df3 = pd.read_csv('modis_2023_India.csv')"
      ]
    },
    {
      "cell_type": "code",
      "execution_count": null,
      "metadata": {
        "colab": {
          "base_uri": "https://localhost:8080/",
          "height": 313
        },
        "id": "Ja-rcL2_HlDG",
        "outputId": "1eb098eb-724b-46fd-d0d5-12f510fae4bd"
      },
      "outputs": [],
      "source": [
        "df1.head() # print first 5 rows - df1.tail()"
      ]
    },
    {
      "cell_type": "code",
      "execution_count": null,
      "metadata": {
        "colab": {
          "base_uri": "https://localhost:8080/",
          "height": 313
        },
        "id": "7vgspDVuHlGH",
        "outputId": "f4e7339d-51ad-4420-ff4b-ad29e192a114"
      },
      "outputs": [],
      "source": [
        "df2.head()"
      ]
    },
    {
      "cell_type": "code",
      "execution_count": null,
      "metadata": {
        "colab": {
          "base_uri": "https://localhost:8080/",
          "height": 313
        },
        "id": "RtxRSpR0HlIh",
        "outputId": "7da44d1c-a0a8-4e28-a23e-11a3a21c1f86"
      },
      "outputs": [],
      "source": [
        "df3.head()"
      ]
    },
    {
      "cell_type": "code",
      "execution_count": null,
      "metadata": {
        "colab": {
          "base_uri": "https://localhost:8080/",
          "height": 313
        },
        "id": "x4x7cMFaJpI-",
        "outputId": "299f6fec-09b0-4c5a-c767-249935a182aa"
      },
      "outputs": [],
      "source": [
        "df = pd.concat([df1, df2, df3], ignore_index=True)\n",
        "df.head()"
      ]
    },
    {
      "cell_type": "code",
      "execution_count": null,
      "metadata": {
        "colab": {
          "base_uri": "https://localhost:8080/"
        },
        "id": "82hZZLrHHlQR",
        "outputId": "b590a297-d49e-44eb-deb2-2dda5152237f"
      },
      "outputs": [],
      "source": [
        "df.shape # rows and cols"
      ]
    },
    {
      "cell_type": "code",
      "execution_count": null,
      "metadata": {
        "colab": {
          "base_uri": "https://localhost:8080/"
        },
        "id": "EGbs4VAoIAE9",
        "outputId": "3cc90bc0-a3a6-4210-87fe-f720bd490e2a"
      },
      "outputs": [],
      "source": [
        "df.info() # dt, memc"
      ]
    },
    {
      "cell_type": "code",
      "execution_count": null,
      "metadata": {},
      "outputs": [],
      "source": [
        "# Any missing values?\n",
        "df.isnull().sum()"
      ]
    },
    {
      "cell_type": "code",
      "execution_count": null,
      "metadata": {
        "colab": {
          "base_uri": "https://localhost:8080/"
        },
        "id": "b59zKGL8RZqD",
        "outputId": "e1c6bd58-5fd6-4a9e-9661-9b8a551a7c41"
      },
      "outputs": [],
      "source": [
        "df.duplicated().sum()"
      ]
    },
    {
      "cell_type": "code",
      "execution_count": null,
      "metadata": {
        "colab": {
          "base_uri": "https://localhost:8080/"
        },
        "id": "58S6ZWN-ICzn",
        "outputId": "34cd5601-9e95-4ed3-fd35-f884bfdc0948"
      },
      "outputs": [],
      "source": [
        "# List out column names to check\n",
        "df.columns"
      ]
    },
    {
      "cell_type": "code",
      "execution_count": null,
      "metadata": {
        "colab": {
          "base_uri": "https://localhost:8080/",
          "height": 394
        },
        "id": "ub3Pu21AIEno",
        "outputId": "d20ad55e-9065-4598-d9cb-1ea7dd247bb5"
      },
      "outputs": [],
      "source": [
        "df.describe().T # statistics of dataset - numbers!"
      ]
    },
    {
      "cell_type": "code",
      "execution_count": null,
      "metadata": {
        "colab": {
          "base_uri": "https://localhost:8080/",
          "height": 209
        },
        "id": "e7wACjSkKNsp",
        "outputId": "4d531606-a381-4df7-f874-9048886bee42"
      },
      "outputs": [],
      "source": [
        "# Check Unique values of target variable\n",
        "df.type.value_counts()"
      ]
    },
    {
      "cell_type": "markdown",
      "metadata": {
        "id": "8dBfsAaaKqyy"
      },
      "source": [
        "### Exploratory Data Analysis (EDA)"
      ]
    },
    {
      "cell_type": "code",
      "execution_count": null,
      "metadata": {
        "colab": {
          "base_uri": "https://localhost:8080/"
        },
        "id": "3CzE5Uf0LA7h",
        "outputId": "36bc041e-6b30-467a-bdea-d67a7123cb00"
      },
      "outputs": [],
      "source": [
        "# Check unique and n unique for all categorical features\n",
        "for col in df.columns:\n",
        "  if df[col].dtype == 'object':\n",
        "    print(f\"Column: {col}\")\n",
        "    print(f\"Unique values: {df[col].unique()}\")\n",
        "    print(f\"Number of unique values: {df[col].nunique()}\")\n",
        "    print(\"-\" * 50)"
      ]
    },
    {
      "cell_type": "code",
      "execution_count": null,
      "metadata": {
        "colab": {
          "base_uri": "https://localhost:8080/",
          "height": 564
        },
        "id": "qChspTLpLEMN",
        "outputId": "7c00dc48-13b5-40d2-ab53-93123cf7305f"
      },
      "outputs": [],
      "source": [
        "# Count plot for 'type'\n",
        "plt.figure(figsize=(8, 6))\n",
        "sns.countplot(x='type', data=df)\n",
        "plt.title('Distribution of Fire Types')\n",
        "plt.xlabel('Fire Type')\n",
        "plt.ylabel('Count')\n",
        "plt.show()"
      ]
    },
    {
      "cell_type": "markdown",
      "metadata": {
        "id": "R0_QC1eIMMqJ"
      },
      "source": [
        "\n",
        "- The count plot shows the distribution of different fire types in the dataset.\n",
        "- It is evident that 'MODIS' is the most frequent fire type, followed by 'VIIRS'.\n",
        "- The 'type' variable appears to be unbalanced, with 'MODIS' having significantly more observations than 'VIIRS'. This imbalance might need to be considered during model training."
      ]
    },
    {
      "cell_type": "code",
      "execution_count": null,
      "metadata": {
        "colab": {
          "base_uri": "https://localhost:8080/",
          "height": 564
        },
        "id": "IoYh8hwWLMNn",
        "outputId": "671d5e44-3968-49a7-b253-27c9743291c3"
      },
      "outputs": [],
      "source": [
        "# Histogram of 'confidence'\n",
        "plt.figure(figsize=(8, 6))\n",
        "sns.histplot(df['confidence'], bins=20, kde=True)\n",
        "plt.title('Distribution of Confidence')\n",
        "plt.xlabel('Confidence')\n",
        "plt.ylabel('Frequency')\n",
        "plt.show()"
      ]
    },
    {
      "cell_type": "markdown",
      "metadata": {
        "id": "o5tfIbwPMYBZ"
      },
      "source": [
        "- The histogram illustrates the distribution of the 'confidence' feature.\n",
        "- The distribution appears to be bimodal, with peaks around low confidence values and high confidence values.\n",
        "- There are fewer observations in the middle range of confidence.\n",
        "- This suggests that observations are often recorded with either low confidence or high confidence."
      ]
    }
  ],
  "metadata": {
    "accelerator": "GPU",
    "colab": {
      "gpuType": "T4",
      "provenance": []
    },
    "kernelspec": {
      "display_name": "Python 3",
      "name": "python3"
    },
    "language_info": {
      "codemirror_mode": {
        "name": "ipython",
        "version": 3
      },
      "file_extension": ".py",
      "mimetype": "text/x-python",
      "name": "python",
      "nbconvert_exporter": "python",
      "pygments_lexer": "ipython3",
      "version": "3.11.4"
    }
  },
  "nbformat": 4,
  "nbformat_minor": 0
}
